{
 "cells": [
  {
   "cell_type": "code",
   "execution_count": 31,
   "metadata": {},
   "outputs": [
    {
     "name": "stdout",
     "output_type": "stream",
     "text": [
      "You just earned 5 points\n"
     ]
    }
   ],
   "source": [
    "# problem 5.3\n",
    "# (1)\n",
    "alien_color = 'green'\n",
    "\n",
    "if alien_color == \"green\":\n",
    "    print(\"You just earned 5 points\")"
   ]
  },
  {
   "cell_type": "code",
   "execution_count": 32,
   "metadata": {
    "collapsed": true
   },
   "outputs": [],
   "source": [
    "# problem 5.3\n",
    "# (2)\n",
    "alien_color = 'red'\n",
    "if alien_color == \"green\":\n",
    "    print(\"You just earned 5 points\")"
   ]
  },
  {
   "cell_type": "code",
   "execution_count": 33,
   "metadata": {},
   "outputs": [
    {
     "name": "stdout",
     "output_type": "stream",
     "text": [
      "You just earned 5 points\n"
     ]
    }
   ],
   "source": [
    "# problem 5.4\n",
    "# (1)\n",
    "alien_color = 'green'\n",
    "if alien_color == \"green\":\n",
    "    print(\"You just earned 5 points\")\n",
    "else:\n",
    "    print(\"You just earned 10 points\")"
   ]
  },
  {
   "cell_type": "code",
   "execution_count": 34,
   "metadata": {},
   "outputs": [
    {
     "name": "stdout",
     "output_type": "stream",
     "text": [
      "You just earned 10 points\n"
     ]
    }
   ],
   "source": [
    "# problem 5.4\n",
    "# (2)\n",
    "alien_color = 'red'\n",
    "if alien_color == \"green\":\n",
    "    print(\"You just earned 5 points\")\n",
    "else:\n",
    "    print(\"You just earned 10 points\")"
   ]
  },
  {
   "cell_type": "code",
   "execution_count": 35,
   "metadata": {},
   "outputs": [
    {
     "name": "stdout",
     "output_type": "stream",
     "text": [
      "You just earned 5 points\n",
      "You just earned 10 points\n"
     ]
    }
   ],
   "source": [
    "# problem 5.4\n",
    "# (3)\n",
    "alien_color = 'green'\n",
    "if alien_color == \"green\":\n",
    "    print(\"You just earned 5 points\")\n",
    "else:\n",
    "    print(\"You failed\")\n",
    "if alien_color != \"green\":\n",
    "    print(\"You just earned 5 points\")\n",
    "else:\n",
    "    print(\"You just earned 10 points\")"
   ]
  },
  {
   "cell_type": "code",
   "execution_count": 36,
   "metadata": {},
   "outputs": [
    {
     "name": "stdout",
     "output_type": "stream",
     "text": [
      "You just earned 5 points\n"
     ]
    }
   ],
   "source": [
    "# problem 5.5\n",
    "# (1) with green color\n",
    "alien_color = 'green'\n",
    "if alien_color == \"green\":\n",
    "    print(\"You just earned 5 points\")\n",
    "elif alien_color == \"yellow\":\n",
    "    print(\"You just earned 10 points\")\n",
    "else:\n",
    "    print(\"You just earned 15 points\")"
   ]
  },
  {
   "cell_type": "code",
   "execution_count": 37,
   "metadata": {},
   "outputs": [
    {
     "name": "stdout",
     "output_type": "stream",
     "text": [
      "You just earned 10 points\n"
     ]
    }
   ],
   "source": [
    "# problem 5.5\n",
    "# (2) with yellow color\n",
    "alien_color = 'yellow'\n",
    "if alien_color == \"green\":\n",
    "    print(\"You just earned 5 points\")\n",
    "elif alien_color == \"yellow\":\n",
    "    print(\"You just earned 10 points\")\n",
    "else:\n",
    "    print(\"You just earned 15 points\")"
   ]
  },
  {
   "cell_type": "code",
   "execution_count": 38,
   "metadata": {},
   "outputs": [
    {
     "name": "stdout",
     "output_type": "stream",
     "text": [
      "You just earned 15 points\n"
     ]
    }
   ],
   "source": [
    "# problem 5.5\n",
    "# (1) with red color\n",
    "alien_color = 'red'\n",
    "if alien_color == \"green\":\n",
    "    print(\"You just earned 5 points\")\n",
    "elif alien_color == \"yellow\":\n",
    "    print(\"You just earned 10 points\")\n",
    "else:\n",
    "    print(\"You just earned 15 points\")"
   ]
  },
  {
   "cell_type": "code",
   "execution_count": 39,
   "metadata": {},
   "outputs": [
    {
     "name": "stdout",
     "output_type": "stream",
     "text": [
      "The person is a edler\n"
     ]
    }
   ],
   "source": [
    "# problem 5.6\n",
    "# Solution\n",
    "age = 70\n",
    "if age < 2:\n",
    "    print(\"The person is a baby\")\n",
    "elif age > 2 and age <= 4:\n",
    "    print(\"The person is a toddler\")\n",
    "elif age > 4 and age <= 13:\n",
    "    print(\"The person is a kid\")\n",
    "elif age > 13 and age <= 20:\n",
    "    print(\"The person is a teenager\")\n",
    "elif age > 20 and age <= 65:\n",
    "    print(\"The person is a adult\")\n",
    "else:\n",
    "    print(\"The person is a edler\")"
   ]
  }
 ],
 "metadata": {
  "kernelspec": {
   "display_name": "Python 3",
   "language": "python",
   "name": "python3"
  },
  "language_info": {
   "codemirror_mode": {
    "name": "ipython",
    "version": 3
   },
   "file_extension": ".py",
   "mimetype": "text/x-python",
   "name": "python",
   "nbconvert_exporter": "python",
   "pygments_lexer": "ipython3",
   "version": "3.6.1"
  }
 },
 "nbformat": 4,
 "nbformat_minor": 2
}
