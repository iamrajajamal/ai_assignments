{
 "cells": [
  {
   "cell_type": "markdown",
   "metadata": {},
   "source": [
    "# Python Crash Course Chap#8 Functions\n",
    "\n",
    "Ex 8-9. Magicians: Make a list of magician’s names. Pass the list to a function\n",
    "called show_magicians(), which prints the name of each magician in the list."
   ]
  },
  {
   "cell_type": "code",
   "execution_count": 5,
   "metadata": {},
   "outputs": [
    {
     "name": "stdout",
     "output_type": "stream",
     "text": [
      "Robert\n",
      "Clarke\n",
      "Rob\n",
      "Peter\n"
     ]
    }
   ],
   "source": [
    "def show_magicians(magicians):\n",
    "    '''Print out the whole list'''\n",
    "    for magician in magicians:\n",
    "        print(magician)\n",
    "    \n",
    "magician =[\"Robert\", \"Clarke\", \"Rob\", \"Peter\"]\n",
    "show_magicians(magician)"
   ]
  },
  {
   "cell_type": "markdown",
   "metadata": {},
   "source": [
    "Ex 8-10. Great Magicians: Start with a copy of your program from Exercise 8-9.\n",
    "Write a function called make_great() that modifies the list of magicians by adding\n",
    "the phrase the Great to each magician’s name. Call show_magicians() to\n",
    "see that the list has actually been modified"
   ]
  },
  {
   "cell_type": "code",
   "execution_count": 20,
   "metadata": {},
   "outputs": [
    {
     "name": "stdout",
     "output_type": "stream",
     "text": [
      "Great: Robert\n",
      "Great: Clarke\n",
      "Great: Rob\n",
      "Great: Peter\n",
      "Robert\n",
      "Clarke\n",
      "Rob\n",
      "Peter\n"
     ]
    }
   ],
   "source": [
    "def show_magicians(magicians):\n",
    "    '''Print out the whole list'''\n",
    "    for magician in magicians:\n",
    "        print(magician)\n",
    "    \n",
    "def make_great(magicians):\n",
    "    '''Modifies list with great keyword'''\n",
    "    for magician in magicians:\n",
    "        print(\"Great: \" + magician)\n",
    "        \n",
    "\n",
    "magician =[\"Robert\", \"Clarke\", \"Rob\", \"Peter\"]\n",
    "make_great(magician)\n",
    "show_magicians(magician)"
   ]
  },
  {
   "cell_type": "markdown",
   "metadata": {},
   "source": [
    "Ex 8-11. Unchanged Magicians: Start with your work from Exercise 8-10. Call the\n",
    "function make_great() with a copy of the list of magicians’ names. Because the\n",
    "original list will be unchanged, return the new list and store it in a separate list.\n",
    "Call show_magicians() with each list to show that you have one list of the original\n",
    "names and one list with the Great added to each magician’s name."
   ]
  },
  {
   "cell_type": "code",
   "execution_count": 15,
   "metadata": {},
   "outputs": [
    {
     "name": "stdout",
     "output_type": "stream",
     "text": [
      "Great: Peter\n",
      "Great: Rob\n",
      "Great: Clarke\n",
      "Great: Robert\n",
      "Peter\n",
      "Rob\n",
      "Clarke\n",
      "Robert\n"
     ]
    }
   ],
   "source": [
    "def show_magicians(magicians):\n",
    "    '''Print out the whole list'''\n",
    "    for magician in magicians:\n",
    "        print(magician)\n",
    "    \n",
    "def make_great(magicians, great_magicians):\n",
    "    '''Modifies list with great keyword'''\n",
    "    while magicians:\n",
    "        magician = magicians.pop()\n",
    "        print(\"Great: \" + magician)\n",
    "        great_magicians.append(magician)\n",
    "        \n",
    "    \n",
    "    \n",
    "great_magicians = []\n",
    "magician =[\"Robert\", \"Clarke\", \"Rob\", \"Peter\"]\n",
    "make_great(magician,great_magicians)s\n",
    "show_magicians(great_magicians)"
   ]
  }
 ],
 "metadata": {
  "kernelspec": {
   "display_name": "Python 3",
   "language": "python",
   "name": "python3"
  },
  "language_info": {
   "codemirror_mode": {
    "name": "ipython",
    "version": 3
   },
   "file_extension": ".py",
   "mimetype": "text/x-python",
   "name": "python",
   "nbconvert_exporter": "python",
   "pygments_lexer": "ipython3",
   "version": "3.6.1"
  }
 },
 "nbformat": 4,
 "nbformat_minor": 2
}
